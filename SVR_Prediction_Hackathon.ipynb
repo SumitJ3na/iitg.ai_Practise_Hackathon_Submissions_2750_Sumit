{
 "metadata": {
  "kernelspec": {
   "language": "python",
   "display_name": "Python 3",
   "name": "python3"
  },
  "language_info": {
   "name": "python",
   "version": "3.10.10",
   "mimetype": "text/x-python",
   "codemirror_mode": {
    "name": "ipython",
    "version": 3
   },
   "pygments_lexer": "ipython3",
   "nbconvert_exporter": "python",
   "file_extension": ".py"
  }
 },
 "nbformat_minor": 4,
 "nbformat": 4,
 "cells": [
  {
   "cell_type": "code",
   "source": [
    "# This Python 3 environment comes with many helpful analytics libraries installed\n",
    "# It is defined by the kaggle/python Docker image: https://github.com/kaggle/docker-python\n",
    "# For example, here's several helpful packages to load\n",
    "\n",
    "import numpy as np # linear algebra\n",
    "import pandas as pd # data processing, CSV file I/O (e.g. pd.read_csv)\n",
    "\n",
    "# Input data files are available in the read-only \"../input/\" directory\n",
    "# For example, running this (by clicking run or pressing Shift+Enter) will list all files under the input directory\n",
    "\n",
    "import os\n",
    "for dirname, _, filenames in os.walk('/kaggle/input'):\n",
    "    for filename in filenames:\n",
    "        print(os.path.join(dirname, filename))\n",
    "\n",
    "# You can write up to 20GB to the current directory (/kaggle/working/) that gets preserved as output when you create a version using \"Save & Run All\" \n",
    "# You can also write temporary files to /kaggle/temp/, but they won't be saved outside of the current session"
   ],
   "metadata": {
    "_uuid": "8f2839f25d086af736a60e9eeb907d3b93b6e0e5",
    "_cell_guid": "b1076dfc-b9ad-4769-8c92-a6c4dae69d19",
    "execution": {
     "iopub.status.busy": "2023-06-19T15:06:39.641730Z",
     "iopub.execute_input": "2023-06-19T15:06:39.642844Z",
     "iopub.status.idle": "2023-06-19T15:06:39.678372Z",
     "shell.execute_reply.started": "2023-06-19T15:06:39.642795Z",
     "shell.execute_reply": "2023-06-19T15:06:39.677337Z"
    },
    "trusted": true
   },
   "execution_count": 1,
   "outputs": [
    {
     "name": "stdout",
     "text": "/kaggle/input/practice-hackathon/sample_submission.csv\n/kaggle/input/practice-hackathon/Train.csv\n/kaggle/input/practice-hackathon/Test.csv\n",
     "output_type": "stream"
    }
   ]
  },
  {
   "cell_type": "code",
   "source": [
    "import pandas as pd\n",
    "from sklearn.svm import SVR\n",
    "from sklearn.preprocessing import StandardScaler\n",
    "from sklearn.model_selection import GridSearchCV\n"
   ],
   "metadata": {
    "execution": {
     "iopub.status.busy": "2023-06-19T15:20:14.891102Z",
     "iopub.execute_input": "2023-06-19T15:20:14.891572Z",
     "iopub.status.idle": "2023-06-19T15:20:14.897267Z",
     "shell.execute_reply.started": "2023-06-19T15:20:14.891537Z",
     "shell.execute_reply": "2023-06-19T15:20:14.896084Z"
    },
    "trusted": true
   },
   "execution_count": 28,
   "outputs": []
  },
  {
   "cell_type": "code",
   "source": [
    "X_train = train_data.iloc[:, 1:-1]  # Exclude the index and target column\n",
    "y_train = train_data['Target']"
   ],
   "metadata": {
    "execution": {
     "iopub.status.busy": "2023-06-19T15:20:23.976119Z",
     "iopub.execute_input": "2023-06-19T15:20:23.976589Z",
     "iopub.status.idle": "2023-06-19T15:20:23.983644Z",
     "shell.execute_reply.started": "2023-06-19T15:20:23.976526Z",
     "shell.execute_reply": "2023-06-19T15:20:23.982424Z"
    },
    "trusted": true
   },
   "execution_count": 29,
   "outputs": []
  },
  {
   "cell_type": "code",
   "source": [
    "train_data = pd.read_csv('/kaggle/input/practice-hackathon/Train.csv')\n",
    "test_data= pd.read_csv('/kaggle/input/practice-hackathon/Test.csv')"
   ],
   "metadata": {
    "execution": {
     "iopub.status.busy": "2023-06-19T15:20:24.972382Z",
     "iopub.execute_input": "2023-06-19T15:20:24.973232Z",
     "iopub.status.idle": "2023-06-19T15:20:24.990746Z",
     "shell.execute_reply.started": "2023-06-19T15:20:24.973191Z",
     "shell.execute_reply": "2023-06-19T15:20:24.989527Z"
    },
    "trusted": true
   },
   "execution_count": 30,
   "outputs": []
  },
  {
   "cell_type": "code",
   "source": [
    "scaler = StandardScaler()\n",
    "X_train_scaled = scaler.fit_transform(X_train)"
   ],
   "metadata": {
    "execution": {
     "iopub.status.busy": "2023-06-19T15:20:56.576352Z",
     "iopub.execute_input": "2023-06-19T15:20:56.577617Z",
     "iopub.status.idle": "2023-06-19T15:20:56.586235Z",
     "shell.execute_reply.started": "2023-06-19T15:20:56.577576Z",
     "shell.execute_reply": "2023-06-19T15:20:56.585274Z"
    },
    "trusted": true
   },
   "execution_count": 31,
   "outputs": []
  },
  {
   "cell_type": "code",
   "source": [
    "svr_model = SVR()\n"
   ],
   "metadata": {
    "execution": {
     "iopub.status.busy": "2023-06-19T15:12:08.962062Z",
     "iopub.execute_input": "2023-06-19T15:12:08.962474Z",
     "iopub.status.idle": "2023-06-19T15:12:08.967163Z",
     "shell.execute_reply.started": "2023-06-19T15:12:08.962441Z",
     "shell.execute_reply": "2023-06-19T15:12:08.966103Z"
    },
    "trusted": true
   },
   "execution_count": 9,
   "outputs": []
  },
  {
   "cell_type": "code",
   "source": [
    "param_grid = {\n",
    "    'C': [0.1, 1, 10],  # Regularization parameter\n",
    "    'epsilon': [0.01, 0.1, 0.5],  # Epsilon parameter for epsilon-insensitive loss\n",
    "    'kernel': ['linear', 'rbf']  # Kernel function\n",
    "}"
   ],
   "metadata": {
    "execution": {
     "iopub.status.busy": "2023-06-19T15:21:12.452364Z",
     "iopub.execute_input": "2023-06-19T15:21:12.452766Z",
     "iopub.status.idle": "2023-06-19T15:21:12.458201Z",
     "shell.execute_reply.started": "2023-06-19T15:21:12.452735Z",
     "shell.execute_reply": "2023-06-19T15:21:12.456958Z"
    },
    "trusted": true
   },
   "execution_count": 32,
   "outputs": []
  },
  {
   "cell_type": "code",
   "source": [
    "grid_search = GridSearchCV(estimator=svr_model, param_grid=param_grid, cv=5, scoring='neg_mean_squared_error')\n",
    "grid_search.fit(X_train_scaled, y_train)\n"
   ],
   "metadata": {
    "execution": {
     "iopub.status.busy": "2023-06-19T15:21:20.884325Z",
     "iopub.execute_input": "2023-06-19T15:21:20.884718Z",
     "iopub.status.idle": "2023-06-19T15:22:03.827286Z",
     "shell.execute_reply.started": "2023-06-19T15:21:20.884688Z",
     "shell.execute_reply": "2023-06-19T15:22:03.826004Z"
    },
    "trusted": true
   },
   "execution_count": 33,
   "outputs": [
    {
     "execution_count": 33,
     "output_type": "execute_result",
     "data": {
      "text/plain": "GridSearchCV(cv=5, estimator=SVR(),\n             param_grid={'C': [0.1, 1, 10], 'epsilon': [0.01, 0.1, 0.5],\n                         'kernel': ['linear', 'rbf']},\n             scoring='neg_mean_squared_error')",
      "text/html": "<style>#sk-container-id-2 {color: black;background-color: white;}#sk-container-id-2 pre{padding: 0;}#sk-container-id-2 div.sk-toggleable {background-color: white;}#sk-container-id-2 label.sk-toggleable__label {cursor: pointer;display: block;width: 100%;margin-bottom: 0;padding: 0.3em;box-sizing: border-box;text-align: center;}#sk-container-id-2 label.sk-toggleable__label-arrow:before {content: \"▸\";float: left;margin-right: 0.25em;color: #696969;}#sk-container-id-2 label.sk-toggleable__label-arrow:hover:before {color: black;}#sk-container-id-2 div.sk-estimator:hover label.sk-toggleable__label-arrow:before {color: black;}#sk-container-id-2 div.sk-toggleable__content {max-height: 0;max-width: 0;overflow: hidden;text-align: left;background-color: #f0f8ff;}#sk-container-id-2 div.sk-toggleable__content pre {margin: 0.2em;color: black;border-radius: 0.25em;background-color: #f0f8ff;}#sk-container-id-2 input.sk-toggleable__control:checked~div.sk-toggleable__content {max-height: 200px;max-width: 100%;overflow: auto;}#sk-container-id-2 input.sk-toggleable__control:checked~label.sk-toggleable__label-arrow:before {content: \"▾\";}#sk-container-id-2 div.sk-estimator input.sk-toggleable__control:checked~label.sk-toggleable__label {background-color: #d4ebff;}#sk-container-id-2 div.sk-label input.sk-toggleable__control:checked~label.sk-toggleable__label {background-color: #d4ebff;}#sk-container-id-2 input.sk-hidden--visually {border: 0;clip: rect(1px 1px 1px 1px);clip: rect(1px, 1px, 1px, 1px);height: 1px;margin: -1px;overflow: hidden;padding: 0;position: absolute;width: 1px;}#sk-container-id-2 div.sk-estimator {font-family: monospace;background-color: #f0f8ff;border: 1px dotted black;border-radius: 0.25em;box-sizing: border-box;margin-bottom: 0.5em;}#sk-container-id-2 div.sk-estimator:hover {background-color: #d4ebff;}#sk-container-id-2 div.sk-parallel-item::after {content: \"\";width: 100%;border-bottom: 1px solid gray;flex-grow: 1;}#sk-container-id-2 div.sk-label:hover label.sk-toggleable__label {background-color: #d4ebff;}#sk-container-id-2 div.sk-serial::before {content: \"\";position: absolute;border-left: 1px solid gray;box-sizing: border-box;top: 0;bottom: 0;left: 50%;z-index: 0;}#sk-container-id-2 div.sk-serial {display: flex;flex-direction: column;align-items: center;background-color: white;padding-right: 0.2em;padding-left: 0.2em;position: relative;}#sk-container-id-2 div.sk-item {position: relative;z-index: 1;}#sk-container-id-2 div.sk-parallel {display: flex;align-items: stretch;justify-content: center;background-color: white;position: relative;}#sk-container-id-2 div.sk-item::before, #sk-container-id-2 div.sk-parallel-item::before {content: \"\";position: absolute;border-left: 1px solid gray;box-sizing: border-box;top: 0;bottom: 0;left: 50%;z-index: -1;}#sk-container-id-2 div.sk-parallel-item {display: flex;flex-direction: column;z-index: 1;position: relative;background-color: white;}#sk-container-id-2 div.sk-parallel-item:first-child::after {align-self: flex-end;width: 50%;}#sk-container-id-2 div.sk-parallel-item:last-child::after {align-self: flex-start;width: 50%;}#sk-container-id-2 div.sk-parallel-item:only-child::after {width: 0;}#sk-container-id-2 div.sk-dashed-wrapped {border: 1px dashed gray;margin: 0 0.4em 0.5em 0.4em;box-sizing: border-box;padding-bottom: 0.4em;background-color: white;}#sk-container-id-2 div.sk-label label {font-family: monospace;font-weight: bold;display: inline-block;line-height: 1.2em;}#sk-container-id-2 div.sk-label-container {text-align: center;}#sk-container-id-2 div.sk-container {/* jupyter's `normalize.less` sets `[hidden] { display: none; }` but bootstrap.min.css set `[hidden] { display: none !important; }` so we also need the `!important` here to be able to override the default hidden behavior on the sphinx rendered scikit-learn.org. See: https://github.com/scikit-learn/scikit-learn/issues/21755 */display: inline-block !important;position: relative;}#sk-container-id-2 div.sk-text-repr-fallback {display: none;}</style><div id=\"sk-container-id-2\" class=\"sk-top-container\"><div class=\"sk-text-repr-fallback\"><pre>GridSearchCV(cv=5, estimator=SVR(),\n             param_grid={&#x27;C&#x27;: [0.1, 1, 10], &#x27;epsilon&#x27;: [0.01, 0.1, 0.5],\n                         &#x27;kernel&#x27;: [&#x27;linear&#x27;, &#x27;rbf&#x27;]},\n             scoring=&#x27;neg_mean_squared_error&#x27;)</pre><b>In a Jupyter environment, please rerun this cell to show the HTML representation or trust the notebook. <br />On GitHub, the HTML representation is unable to render, please try loading this page with nbviewer.org.</b></div><div class=\"sk-container\" hidden><div class=\"sk-item sk-dashed-wrapped\"><div class=\"sk-label-container\"><div class=\"sk-label sk-toggleable\"><input class=\"sk-toggleable__control sk-hidden--visually\" id=\"sk-estimator-id-5\" type=\"checkbox\" ><label for=\"sk-estimator-id-5\" class=\"sk-toggleable__label sk-toggleable__label-arrow\">GridSearchCV</label><div class=\"sk-toggleable__content\"><pre>GridSearchCV(cv=5, estimator=SVR(),\n             param_grid={&#x27;C&#x27;: [0.1, 1, 10], &#x27;epsilon&#x27;: [0.01, 0.1, 0.5],\n                         &#x27;kernel&#x27;: [&#x27;linear&#x27;, &#x27;rbf&#x27;]},\n             scoring=&#x27;neg_mean_squared_error&#x27;)</pre></div></div></div><div class=\"sk-parallel\"><div class=\"sk-parallel-item\"><div class=\"sk-item\"><div class=\"sk-label-container\"><div class=\"sk-label sk-toggleable\"><input class=\"sk-toggleable__control sk-hidden--visually\" id=\"sk-estimator-id-6\" type=\"checkbox\" ><label for=\"sk-estimator-id-6\" class=\"sk-toggleable__label sk-toggleable__label-arrow\">estimator: SVR</label><div class=\"sk-toggleable__content\"><pre>SVR()</pre></div></div></div><div class=\"sk-serial\"><div class=\"sk-item\"><div class=\"sk-estimator sk-toggleable\"><input class=\"sk-toggleable__control sk-hidden--visually\" id=\"sk-estimator-id-7\" type=\"checkbox\" ><label for=\"sk-estimator-id-7\" class=\"sk-toggleable__label sk-toggleable__label-arrow\">SVR</label><div class=\"sk-toggleable__content\"><pre>SVR()</pre></div></div></div></div></div></div></div></div></div></div>"
     },
     "metadata": {}
    }
   ]
  },
  {
   "cell_type": "code",
   "source": [
    "best_svr_model = grid_search.best_estimator_\n"
   ],
   "metadata": {
    "execution": {
     "iopub.status.busy": "2023-06-19T15:29:50.791416Z",
     "iopub.execute_input": "2023-06-19T15:29:50.792576Z",
     "iopub.status.idle": "2023-06-19T15:29:50.796887Z",
     "shell.execute_reply.started": "2023-06-19T15:29:50.792536Z",
     "shell.execute_reply": "2023-06-19T15:29:50.795890Z"
    },
    "trusted": true
   },
   "execution_count": 34,
   "outputs": []
  },
  {
   "cell_type": "code",
   "source": [
    "print(\"Best Parameters:\", grid_search.best_params_)\n",
    "print(\"Best Score:\", -grid_search.best_score_)"
   ],
   "metadata": {
    "execution": {
     "iopub.status.busy": "2023-06-19T15:30:06.104320Z",
     "iopub.execute_input": "2023-06-19T15:30:06.104757Z",
     "iopub.status.idle": "2023-06-19T15:30:06.111335Z",
     "shell.execute_reply.started": "2023-06-19T15:30:06.104721Z",
     "shell.execute_reply": "2023-06-19T15:30:06.109947Z"
    },
    "trusted": true
   },
   "execution_count": 35,
   "outputs": [
    {
     "name": "stdout",
     "text": "Best Parameters: {'C': 10, 'epsilon': 0.1, 'kernel': 'rbf'}\nBest Score: 4.569982504444637\n",
     "output_type": "stream"
    }
   ]
  },
  {
   "cell_type": "code",
   "source": [
    "estimators = [('svr', best_svr_model), ('xgb', best_xgb_model)]\n",
    "stacking_model = StackingRegressor(estimators=estimators, final_estimator=SVR())"
   ],
   "metadata": {
    "execution": {
     "iopub.status.busy": "2023-06-19T15:14:07.706238Z",
     "iopub.execute_input": "2023-06-19T15:14:07.706650Z",
     "iopub.status.idle": "2023-06-19T15:14:07.711972Z",
     "shell.execute_reply.started": "2023-06-19T15:14:07.706620Z",
     "shell.execute_reply": "2023-06-19T15:14:07.711019Z"
    },
    "trusted": true
   },
   "execution_count": 14,
   "outputs": []
  },
  {
   "cell_type": "code",
   "source": [
    "stacking_model.fit(X_train_split, y_train_split)\n"
   ],
   "metadata": {
    "execution": {
     "iopub.status.busy": "2023-06-19T15:14:20.781845Z",
     "iopub.execute_input": "2023-06-19T15:14:20.782284Z",
     "iopub.status.idle": "2023-06-19T15:14:23.657728Z",
     "shell.execute_reply.started": "2023-06-19T15:14:20.782250Z",
     "shell.execute_reply": "2023-06-19T15:14:23.656576Z"
    },
    "trusted": true
   },
   "execution_count": 15,
   "outputs": [
    {
     "execution_count": 15,
     "output_type": "execute_result",
     "data": {
      "text/plain": "StackingRegressor(estimators=[('svr', SVR(C=10, epsilon=0.01)),\n                              ('xgb',\n                               XGBRegressor(base_score=None, booster=None,\n                                            callbacks=None,\n                                            colsample_bylevel=None,\n                                            colsample_bynode=None,\n                                            colsample_bytree=None,\n                                            early_stopping_rounds=None,\n                                            enable_categorical=False,\n                                            eval_metric=None,\n                                            feature_types=None, gamma=None,\n                                            gpu_id=None, grow_policy=None,\n                                            importance_type=None,\n                                            interaction_constraints=None,\n                                            learning_rate=0.1, max_bin=None,\n                                            max_cat_threshold=None,\n                                            max_cat_to_onehot=None,\n                                            max_delta_step=None, max_depth=3,\n                                            max_leaves=None,\n                                            min_child_weight=None, missing=nan,\n                                            monotone_constraints=None,\n                                            n_estimators=100, n_jobs=None,\n                                            num_parallel_tree=None,\n                                            predictor=None, random_state=None, ...))],\n                  final_estimator=SVR())",
      "text/html": "<style>#sk-container-id-1 {color: black;background-color: white;}#sk-container-id-1 pre{padding: 0;}#sk-container-id-1 div.sk-toggleable {background-color: white;}#sk-container-id-1 label.sk-toggleable__label {cursor: pointer;display: block;width: 100%;margin-bottom: 0;padding: 0.3em;box-sizing: border-box;text-align: center;}#sk-container-id-1 label.sk-toggleable__label-arrow:before {content: \"▸\";float: left;margin-right: 0.25em;color: #696969;}#sk-container-id-1 label.sk-toggleable__label-arrow:hover:before {color: black;}#sk-container-id-1 div.sk-estimator:hover label.sk-toggleable__label-arrow:before {color: black;}#sk-container-id-1 div.sk-toggleable__content {max-height: 0;max-width: 0;overflow: hidden;text-align: left;background-color: #f0f8ff;}#sk-container-id-1 div.sk-toggleable__content pre {margin: 0.2em;color: black;border-radius: 0.25em;background-color: #f0f8ff;}#sk-container-id-1 input.sk-toggleable__control:checked~div.sk-toggleable__content {max-height: 200px;max-width: 100%;overflow: auto;}#sk-container-id-1 input.sk-toggleable__control:checked~label.sk-toggleable__label-arrow:before {content: \"▾\";}#sk-container-id-1 div.sk-estimator input.sk-toggleable__control:checked~label.sk-toggleable__label {background-color: #d4ebff;}#sk-container-id-1 div.sk-label input.sk-toggleable__control:checked~label.sk-toggleable__label {background-color: #d4ebff;}#sk-container-id-1 input.sk-hidden--visually {border: 0;clip: rect(1px 1px 1px 1px);clip: rect(1px, 1px, 1px, 1px);height: 1px;margin: -1px;overflow: hidden;padding: 0;position: absolute;width: 1px;}#sk-container-id-1 div.sk-estimator {font-family: monospace;background-color: #f0f8ff;border: 1px dotted black;border-radius: 0.25em;box-sizing: border-box;margin-bottom: 0.5em;}#sk-container-id-1 div.sk-estimator:hover {background-color: #d4ebff;}#sk-container-id-1 div.sk-parallel-item::after {content: \"\";width: 100%;border-bottom: 1px solid gray;flex-grow: 1;}#sk-container-id-1 div.sk-label:hover label.sk-toggleable__label {background-color: #d4ebff;}#sk-container-id-1 div.sk-serial::before {content: \"\";position: absolute;border-left: 1px solid gray;box-sizing: border-box;top: 0;bottom: 0;left: 50%;z-index: 0;}#sk-container-id-1 div.sk-serial {display: flex;flex-direction: column;align-items: center;background-color: white;padding-right: 0.2em;padding-left: 0.2em;position: relative;}#sk-container-id-1 div.sk-item {position: relative;z-index: 1;}#sk-container-id-1 div.sk-parallel {display: flex;align-items: stretch;justify-content: center;background-color: white;position: relative;}#sk-container-id-1 div.sk-item::before, #sk-container-id-1 div.sk-parallel-item::before {content: \"\";position: absolute;border-left: 1px solid gray;box-sizing: border-box;top: 0;bottom: 0;left: 50%;z-index: -1;}#sk-container-id-1 div.sk-parallel-item {display: flex;flex-direction: column;z-index: 1;position: relative;background-color: white;}#sk-container-id-1 div.sk-parallel-item:first-child::after {align-self: flex-end;width: 50%;}#sk-container-id-1 div.sk-parallel-item:last-child::after {align-self: flex-start;width: 50%;}#sk-container-id-1 div.sk-parallel-item:only-child::after {width: 0;}#sk-container-id-1 div.sk-dashed-wrapped {border: 1px dashed gray;margin: 0 0.4em 0.5em 0.4em;box-sizing: border-box;padding-bottom: 0.4em;background-color: white;}#sk-container-id-1 div.sk-label label {font-family: monospace;font-weight: bold;display: inline-block;line-height: 1.2em;}#sk-container-id-1 div.sk-label-container {text-align: center;}#sk-container-id-1 div.sk-container {/* jupyter's `normalize.less` sets `[hidden] { display: none; }` but bootstrap.min.css set `[hidden] { display: none !important; }` so we also need the `!important` here to be able to override the default hidden behavior on the sphinx rendered scikit-learn.org. See: https://github.com/scikit-learn/scikit-learn/issues/21755 */display: inline-block !important;position: relative;}#sk-container-id-1 div.sk-text-repr-fallback {display: none;}</style><div id=\"sk-container-id-1\" class=\"sk-top-container\"><div class=\"sk-text-repr-fallback\"><pre>StackingRegressor(estimators=[(&#x27;svr&#x27;, SVR(C=10, epsilon=0.01)),\n                              (&#x27;xgb&#x27;,\n                               XGBRegressor(base_score=None, booster=None,\n                                            callbacks=None,\n                                            colsample_bylevel=None,\n                                            colsample_bynode=None,\n                                            colsample_bytree=None,\n                                            early_stopping_rounds=None,\n                                            enable_categorical=False,\n                                            eval_metric=None,\n                                            feature_types=None, gamma=None,\n                                            gpu_id=None, grow_policy=None,\n                                            importance_type=None,\n                                            interaction_constraints=None,\n                                            learning_rate=0.1, max_bin=None,\n                                            max_cat_threshold=None,\n                                            max_cat_to_onehot=None,\n                                            max_delta_step=None, max_depth=3,\n                                            max_leaves=None,\n                                            min_child_weight=None, missing=nan,\n                                            monotone_constraints=None,\n                                            n_estimators=100, n_jobs=None,\n                                            num_parallel_tree=None,\n                                            predictor=None, random_state=None, ...))],\n                  final_estimator=SVR())</pre><b>In a Jupyter environment, please rerun this cell to show the HTML representation or trust the notebook. <br />On GitHub, the HTML representation is unable to render, please try loading this page with nbviewer.org.</b></div><div class=\"sk-container\" hidden><div class=\"sk-item sk-dashed-wrapped\"><div class=\"sk-label-container\"><div class=\"sk-label sk-toggleable\"><input class=\"sk-toggleable__control sk-hidden--visually\" id=\"sk-estimator-id-1\" type=\"checkbox\" ><label for=\"sk-estimator-id-1\" class=\"sk-toggleable__label sk-toggleable__label-arrow\">StackingRegressor</label><div class=\"sk-toggleable__content\"><pre>StackingRegressor(estimators=[(&#x27;svr&#x27;, SVR(C=10, epsilon=0.01)),\n                              (&#x27;xgb&#x27;,\n                               XGBRegressor(base_score=None, booster=None,\n                                            callbacks=None,\n                                            colsample_bylevel=None,\n                                            colsample_bynode=None,\n                                            colsample_bytree=None,\n                                            early_stopping_rounds=None,\n                                            enable_categorical=False,\n                                            eval_metric=None,\n                                            feature_types=None, gamma=None,\n                                            gpu_id=None, grow_policy=None,\n                                            importance_type=None,\n                                            interaction_constraints=None,\n                                            learning_rate=0.1, max_bin=None,\n                                            max_cat_threshold=None,\n                                            max_cat_to_onehot=None,\n                                            max_delta_step=None, max_depth=3,\n                                            max_leaves=None,\n                                            min_child_weight=None, missing=nan,\n                                            monotone_constraints=None,\n                                            n_estimators=100, n_jobs=None,\n                                            num_parallel_tree=None,\n                                            predictor=None, random_state=None, ...))],\n                  final_estimator=SVR())</pre></div></div></div><div class=\"sk-serial\"><div class=\"sk-item\"><div class=\"sk-parallel\"><div class=\"sk-parallel-item\"><div class=\"sk-item\"><div class=\"sk-label-container\"><div class=\"sk-label sk-toggleable\"><label>svr</label></div></div><div class=\"sk-serial\"><div class=\"sk-item\"><div class=\"sk-estimator sk-toggleable\"><input class=\"sk-toggleable__control sk-hidden--visually\" id=\"sk-estimator-id-2\" type=\"checkbox\" ><label for=\"sk-estimator-id-2\" class=\"sk-toggleable__label sk-toggleable__label-arrow\">SVR</label><div class=\"sk-toggleable__content\"><pre>SVR(C=10, epsilon=0.01)</pre></div></div></div></div></div></div><div class=\"sk-parallel-item\"><div class=\"sk-item\"><div class=\"sk-label-container\"><div class=\"sk-label sk-toggleable\"><label>xgb</label></div></div><div class=\"sk-serial\"><div class=\"sk-item\"><div class=\"sk-estimator sk-toggleable\"><input class=\"sk-toggleable__control sk-hidden--visually\" id=\"sk-estimator-id-3\" type=\"checkbox\" ><label for=\"sk-estimator-id-3\" class=\"sk-toggleable__label sk-toggleable__label-arrow\">XGBRegressor</label><div class=\"sk-toggleable__content\"><pre>XGBRegressor(base_score=None, booster=None, callbacks=None,\n             colsample_bylevel=None, colsample_bynode=None,\n             colsample_bytree=None, early_stopping_rounds=None,\n             enable_categorical=False, eval_metric=None, feature_types=None,\n             gamma=None, gpu_id=None, grow_policy=None, importance_type=None,\n             interaction_constraints=None, learning_rate=0.1, max_bin=None,\n             max_cat_threshold=None, max_cat_to_onehot=None,\n             max_delta_step=None, max_depth=3, max_leaves=None,\n             min_child_weight=None, missing=nan, monotone_constraints=None,\n             n_estimators=100, n_jobs=None, num_parallel_tree=None,\n             predictor=None, random_state=None, ...)</pre></div></div></div></div></div></div></div></div><div class=\"sk-item\"><div class=\"sk-parallel\"><div class=\"sk-parallel-item\"><div class=\"sk-item\"><div class=\"sk-label-container\"><div class=\"sk-label sk-toggleable\"><label>final_estimator</label></div></div><div class=\"sk-serial\"><div class=\"sk-item\"><div class=\"sk-estimator sk-toggleable\"><input class=\"sk-toggleable__control sk-hidden--visually\" id=\"sk-estimator-id-4\" type=\"checkbox\" ><label for=\"sk-estimator-id-4\" class=\"sk-toggleable__label sk-toggleable__label-arrow\">SVR</label><div class=\"sk-toggleable__content\"><pre>SVR()</pre></div></div></div></div></div></div></div></div></div></div></div></div>"
     },
     "metadata": {}
    }
   ]
  },
  {
   "cell_type": "code",
   "source": [
    "y_val_pred = stacking_model.predict(X_val_split)\n"
   ],
   "metadata": {
    "execution": {
     "iopub.status.busy": "2023-06-19T15:14:29.628988Z",
     "iopub.execute_input": "2023-06-19T15:14:29.629427Z",
     "iopub.status.idle": "2023-06-19T15:14:29.804143Z",
     "shell.execute_reply.started": "2023-06-19T15:14:29.629395Z",
     "shell.execute_reply": "2023-06-19T15:14:29.803235Z"
    },
    "trusted": true
   },
   "execution_count": 16,
   "outputs": []
  },
  {
   "cell_type": "code",
   "source": [
    "mse = mean_squared_error(y_val_split, y_val_pred)\n",
    "print(\"Mean Squared Error on Validation Set:\", mse)"
   ],
   "metadata": {
    "execution": {
     "iopub.status.busy": "2023-06-19T15:14:40.892257Z",
     "iopub.execute_input": "2023-06-19T15:14:40.892695Z",
     "iopub.status.idle": "2023-06-19T15:14:40.899179Z",
     "shell.execute_reply.started": "2023-06-19T15:14:40.892659Z",
     "shell.execute_reply": "2023-06-19T15:14:40.897954Z"
    },
    "trusted": true
   },
   "execution_count": 17,
   "outputs": [
    {
     "name": "stdout",
     "text": "Mean Squared Error on Validation Set: 4.514604242478676\n",
     "output_type": "stream"
    }
   ]
  },
  {
   "cell_type": "code",
   "source": [
    "X_test = test_data.iloc[:, 1:]  # Exclude the index column\n",
    "X_test_reordered = X_test[X_train.columns]  # Reorder the columns to match training data\n",
    "X_test_scaled = scaler.transform(X_test_reordered)\n"
   ],
   "metadata": {
    "execution": {
     "iopub.status.busy": "2023-06-19T15:16:07.600655Z",
     "iopub.execute_input": "2023-06-19T15:16:07.601036Z",
     "iopub.status.idle": "2023-06-19T15:16:07.611041Z",
     "shell.execute_reply.started": "2023-06-19T15:16:07.601008Z",
     "shell.execute_reply": "2023-06-19T15:16:07.610127Z"
    },
    "trusted": true
   },
   "execution_count": 21,
   "outputs": []
  },
  {
   "cell_type": "code",
   "source": [
    "y_val_pred = stacking_model.predict(X_val_split)\n"
   ],
   "metadata": {
    "execution": {
     "iopub.status.busy": "2023-06-19T15:16:16.334714Z",
     "iopub.execute_input": "2023-06-19T15:16:16.335118Z",
     "iopub.status.idle": "2023-06-19T15:16:16.492664Z",
     "shell.execute_reply.started": "2023-06-19T15:16:16.335090Z",
     "shell.execute_reply": "2023-06-19T15:16:16.491559Z"
    },
    "trusted": true
   },
   "execution_count": 22,
   "outputs": []
  },
  {
   "cell_type": "code",
   "source": [
    "mse = mean_squared_error(y_val_split, y_val_pred)\n",
    "print(\"Mean Squared Error on Validation Set:\", mse)"
   ],
   "metadata": {
    "execution": {
     "iopub.status.busy": "2023-06-19T15:16:24.884453Z",
     "iopub.execute_input": "2023-06-19T15:16:24.884859Z",
     "iopub.status.idle": "2023-06-19T15:16:24.891556Z",
     "shell.execute_reply.started": "2023-06-19T15:16:24.884828Z",
     "shell.execute_reply": "2023-06-19T15:16:24.890284Z"
    },
    "trusted": true
   },
   "execution_count": 23,
   "outputs": [
    {
     "name": "stdout",
     "text": "Mean Squared Error on Validation Set: 4.514604242478676\n",
     "output_type": "stream"
    }
   ]
  },
  {
   "cell_type": "code",
   "source": [
    "y_test_pred = stacking_model.predict(X_test_scaled)\n"
   ],
   "metadata": {
    "execution": {
     "iopub.status.busy": "2023-06-19T15:16:55.156802Z",
     "iopub.execute_input": "2023-06-19T15:16:55.157220Z",
     "iopub.status.idle": "2023-06-19T15:16:55.411164Z",
     "shell.execute_reply.started": "2023-06-19T15:16:55.157186Z",
     "shell.execute_reply": "2023-06-19T15:16:55.410223Z"
    },
    "trusted": true
   },
   "execution_count": 24,
   "outputs": []
  },
  {
   "cell_type": "code",
   "source": [
    "submission = pd.DataFrame({'Index': test_data['Index'], 'Target': y_test_pred})\n",
    "submission"
   ],
   "metadata": {
    "execution": {
     "iopub.status.busy": "2023-06-19T15:17:18.950488Z",
     "iopub.execute_input": "2023-06-19T15:17:18.950920Z",
     "iopub.status.idle": "2023-06-19T15:17:18.977651Z",
     "shell.execute_reply.started": "2023-06-19T15:17:18.950889Z",
     "shell.execute_reply": "2023-06-19T15:17:18.976363Z"
    },
    "trusted": true
   },
   "execution_count": 26,
   "outputs": [
    {
     "execution_count": 26,
     "output_type": "execute_result",
     "data": {
      "text/plain": "      Index     Target\n0       866  11.334482\n1      1483   9.472240\n2       599  15.690320\n3      1702  11.423464\n4       670  11.428540\n...     ...        ...\n1040    532   9.366344\n1041   3417   9.173935\n1042   1505  11.846310\n1043   2245  11.873842\n1044   2428   9.120336\n\n[1045 rows x 2 columns]",
      "text/html": "<div>\n<style scoped>\n    .dataframe tbody tr th:only-of-type {\n        vertical-align: middle;\n    }\n\n    .dataframe tbody tr th {\n        vertical-align: top;\n    }\n\n    .dataframe thead th {\n        text-align: right;\n    }\n</style>\n<table border=\"1\" class=\"dataframe\">\n  <thead>\n    <tr style=\"text-align: right;\">\n      <th></th>\n      <th>Index</th>\n      <th>Target</th>\n    </tr>\n  </thead>\n  <tbody>\n    <tr>\n      <th>0</th>\n      <td>866</td>\n      <td>11.334482</td>\n    </tr>\n    <tr>\n      <th>1</th>\n      <td>1483</td>\n      <td>9.472240</td>\n    </tr>\n    <tr>\n      <th>2</th>\n      <td>599</td>\n      <td>15.690320</td>\n    </tr>\n    <tr>\n      <th>3</th>\n      <td>1702</td>\n      <td>11.423464</td>\n    </tr>\n    <tr>\n      <th>4</th>\n      <td>670</td>\n      <td>11.428540</td>\n    </tr>\n    <tr>\n      <th>...</th>\n      <td>...</td>\n      <td>...</td>\n    </tr>\n    <tr>\n      <th>1040</th>\n      <td>532</td>\n      <td>9.366344</td>\n    </tr>\n    <tr>\n      <th>1041</th>\n      <td>3417</td>\n      <td>9.173935</td>\n    </tr>\n    <tr>\n      <th>1042</th>\n      <td>1505</td>\n      <td>11.846310</td>\n    </tr>\n    <tr>\n      <th>1043</th>\n      <td>2245</td>\n      <td>11.873842</td>\n    </tr>\n    <tr>\n      <th>1044</th>\n      <td>2428</td>\n      <td>9.120336</td>\n    </tr>\n  </tbody>\n</table>\n<p>1045 rows × 2 columns</p>\n</div>"
     },
     "metadata": {}
    }
   ]
  },
  {
   "cell_type": "code",
   "source": [
    "submission.to_csv('submission.csv', index=False)\n"
   ],
   "metadata": {
    "execution": {
     "iopub.status.busy": "2023-06-19T15:17:37.906007Z",
     "iopub.execute_input": "2023-06-19T15:17:37.906372Z",
     "iopub.status.idle": "2023-06-19T15:17:37.920633Z",
     "shell.execute_reply.started": "2023-06-19T15:17:37.906345Z",
     "shell.execute_reply": "2023-06-19T15:17:37.919407Z"
    },
    "trusted": true
   },
   "execution_count": 27,
   "outputs": []
  }
 ]
}
